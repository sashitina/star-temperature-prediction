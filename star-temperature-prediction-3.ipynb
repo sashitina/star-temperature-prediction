{
 "cells": [
  {
   "cell_type": "markdown",
   "id": "c52a114c",
   "metadata": {},
   "source": [
    "# Задача\n",
    "\n",
    "Разработать нейросеть для определения температуруы на поверхности обнаруженных звёзд. В базе содержатся характеристики уже изученных 240 звёзд.\n",
    "\n",
    "## Характеристики\n",
    "\n",
    "* `Относительная светимость L/Lo` — светимость звезды относительно Солнца.\n",
    "* `Относительный радиус R/Ro` — радиус звезды относительно радиуса Солнца.\n",
    "* `Абсолютная звёздная величина Mv` — физическая величина, характеризующая блеск звезды.\n",
    "* `Звёздный цвет (white, red, blue, yellow, yellow-orange и др.)` — цвет звезды, который определяют на основе спектрального анализа.\n",
    "* `Тип звезды`\n",
    "* `Абсолютная температура T(K)` — температура на поверхности звезды в Кельвинах."
   ]
  },
  {
   "cell_type": "markdown",
   "id": "b27eebe9",
   "metadata": {},
   "source": [
    "# Загрузка и подготовка исходных данных"
   ]
  },
  {
   "cell_type": "code",
   "execution_count": 1,
   "id": "fb82194c",
   "metadata": {},
   "outputs": [],
   "source": [
    "import pandas as pd\n",
    "import numpy as np\n",
    "import seaborn as sns\n",
    "import matplotlib.pyplot as plt\n",
    "import torch\n",
    "import torch.nn as nn\n",
    "import random\n",
    "from math import sqrt\n",
    "from sklearn.metrics import mean_squared_error\n",
    "from math import ceil\n",
    "\n",
    "from sklearn.model_selection import train_test_split, GridSearchCV\n",
    "from sklearn.preprocessing import StandardScaler, OrdinalEncoder"
   ]
  },
  {
   "cell_type": "code",
   "execution_count": 2,
   "id": "dd380919",
   "metadata": {},
   "outputs": [],
   "source": [
    "def data_info(file_path):\n",
    "    df = pd.read_csv(file_path, index_col=0)\n",
    "    display(df.head(5))\n",
    "    display(df.info())\n",
    "    display(df.describe())\n",
    "    print('Количество дубликатов:', df.duplicated().sum())\n",
    "    print('Общее количество пропусков:', df.isnull().sum().sum())\n",
    "    return df"
   ]
  },
  {
   "cell_type": "code",
   "execution_count": 3,
   "id": "134f228e",
   "metadata": {},
   "outputs": [
    {
     "data": {
      "text/html": [
       "<div>\n",
       "<style scoped>\n",
       "    .dataframe tbody tr th:only-of-type {\n",
       "        vertical-align: middle;\n",
       "    }\n",
       "\n",
       "    .dataframe tbody tr th {\n",
       "        vertical-align: top;\n",
       "    }\n",
       "\n",
       "    .dataframe thead th {\n",
       "        text-align: right;\n",
       "    }\n",
       "</style>\n",
       "<table border=\"1\" class=\"dataframe\">\n",
       "  <thead>\n",
       "    <tr style=\"text-align: right;\">\n",
       "      <th></th>\n",
       "      <th>Temperature (K)</th>\n",
       "      <th>Luminosity(L/Lo)</th>\n",
       "      <th>Radius(R/Ro)</th>\n",
       "      <th>Absolute magnitude(Mv)</th>\n",
       "      <th>Star type</th>\n",
       "      <th>Star color</th>\n",
       "    </tr>\n",
       "    <tr>\n",
       "      <th>Unnamed: 0</th>\n",
       "      <th></th>\n",
       "      <th></th>\n",
       "      <th></th>\n",
       "      <th></th>\n",
       "      <th></th>\n",
       "      <th></th>\n",
       "    </tr>\n",
       "  </thead>\n",
       "  <tbody>\n",
       "    <tr>\n",
       "      <th>0</th>\n",
       "      <td>3068</td>\n",
       "      <td>0.002400</td>\n",
       "      <td>0.1700</td>\n",
       "      <td>16.12</td>\n",
       "      <td>0</td>\n",
       "      <td>Red</td>\n",
       "    </tr>\n",
       "    <tr>\n",
       "      <th>1</th>\n",
       "      <td>3042</td>\n",
       "      <td>0.000500</td>\n",
       "      <td>0.1542</td>\n",
       "      <td>16.60</td>\n",
       "      <td>0</td>\n",
       "      <td>Red</td>\n",
       "    </tr>\n",
       "    <tr>\n",
       "      <th>2</th>\n",
       "      <td>2600</td>\n",
       "      <td>0.000300</td>\n",
       "      <td>0.1020</td>\n",
       "      <td>18.70</td>\n",
       "      <td>0</td>\n",
       "      <td>Red</td>\n",
       "    </tr>\n",
       "    <tr>\n",
       "      <th>3</th>\n",
       "      <td>2800</td>\n",
       "      <td>0.000200</td>\n",
       "      <td>0.1600</td>\n",
       "      <td>16.65</td>\n",
       "      <td>0</td>\n",
       "      <td>Red</td>\n",
       "    </tr>\n",
       "    <tr>\n",
       "      <th>4</th>\n",
       "      <td>1939</td>\n",
       "      <td>0.000138</td>\n",
       "      <td>0.1030</td>\n",
       "      <td>20.06</td>\n",
       "      <td>0</td>\n",
       "      <td>Red</td>\n",
       "    </tr>\n",
       "  </tbody>\n",
       "</table>\n",
       "</div>"
      ],
      "text/plain": [
       "            Temperature (K)  Luminosity(L/Lo)  Radius(R/Ro)  \\\n",
       "Unnamed: 0                                                    \n",
       "0                      3068          0.002400        0.1700   \n",
       "1                      3042          0.000500        0.1542   \n",
       "2                      2600          0.000300        0.1020   \n",
       "3                      2800          0.000200        0.1600   \n",
       "4                      1939          0.000138        0.1030   \n",
       "\n",
       "            Absolute magnitude(Mv)  Star type Star color  \n",
       "Unnamed: 0                                                \n",
       "0                            16.12          0        Red  \n",
       "1                            16.60          0        Red  \n",
       "2                            18.70          0        Red  \n",
       "3                            16.65          0        Red  \n",
       "4                            20.06          0        Red  "
      ]
     },
     "metadata": {},
     "output_type": "display_data"
    },
    {
     "name": "stdout",
     "output_type": "stream",
     "text": [
      "<class 'pandas.core.frame.DataFrame'>\n",
      "Int64Index: 240 entries, 0 to 239\n",
      "Data columns (total 6 columns):\n",
      " #   Column                  Non-Null Count  Dtype  \n",
      "---  ------                  --------------  -----  \n",
      " 0   Temperature (K)         240 non-null    int64  \n",
      " 1   Luminosity(L/Lo)        240 non-null    float64\n",
      " 2   Radius(R/Ro)            240 non-null    float64\n",
      " 3   Absolute magnitude(Mv)  240 non-null    float64\n",
      " 4   Star type               240 non-null    int64  \n",
      " 5   Star color              240 non-null    object \n",
      "dtypes: float64(3), int64(2), object(1)\n",
      "memory usage: 13.1+ KB\n"
     ]
    },
    {
     "data": {
      "text/plain": [
       "None"
      ]
     },
     "metadata": {},
     "output_type": "display_data"
    },
    {
     "data": {
      "text/html": [
       "<div>\n",
       "<style scoped>\n",
       "    .dataframe tbody tr th:only-of-type {\n",
       "        vertical-align: middle;\n",
       "    }\n",
       "\n",
       "    .dataframe tbody tr th {\n",
       "        vertical-align: top;\n",
       "    }\n",
       "\n",
       "    .dataframe thead th {\n",
       "        text-align: right;\n",
       "    }\n",
       "</style>\n",
       "<table border=\"1\" class=\"dataframe\">\n",
       "  <thead>\n",
       "    <tr style=\"text-align: right;\">\n",
       "      <th></th>\n",
       "      <th>Temperature (K)</th>\n",
       "      <th>Luminosity(L/Lo)</th>\n",
       "      <th>Radius(R/Ro)</th>\n",
       "      <th>Absolute magnitude(Mv)</th>\n",
       "      <th>Star type</th>\n",
       "    </tr>\n",
       "  </thead>\n",
       "  <tbody>\n",
       "    <tr>\n",
       "      <th>count</th>\n",
       "      <td>240.000000</td>\n",
       "      <td>240.000000</td>\n",
       "      <td>240.000000</td>\n",
       "      <td>240.000000</td>\n",
       "      <td>240.000000</td>\n",
       "    </tr>\n",
       "    <tr>\n",
       "      <th>mean</th>\n",
       "      <td>10497.462500</td>\n",
       "      <td>107188.361635</td>\n",
       "      <td>237.157781</td>\n",
       "      <td>4.382396</td>\n",
       "      <td>2.500000</td>\n",
       "    </tr>\n",
       "    <tr>\n",
       "      <th>std</th>\n",
       "      <td>9552.425037</td>\n",
       "      <td>179432.244940</td>\n",
       "      <td>517.155763</td>\n",
       "      <td>10.532512</td>\n",
       "      <td>1.711394</td>\n",
       "    </tr>\n",
       "    <tr>\n",
       "      <th>min</th>\n",
       "      <td>1939.000000</td>\n",
       "      <td>0.000080</td>\n",
       "      <td>0.008400</td>\n",
       "      <td>-11.920000</td>\n",
       "      <td>0.000000</td>\n",
       "    </tr>\n",
       "    <tr>\n",
       "      <th>25%</th>\n",
       "      <td>3344.250000</td>\n",
       "      <td>0.000865</td>\n",
       "      <td>0.102750</td>\n",
       "      <td>-6.232500</td>\n",
       "      <td>1.000000</td>\n",
       "    </tr>\n",
       "    <tr>\n",
       "      <th>50%</th>\n",
       "      <td>5776.000000</td>\n",
       "      <td>0.070500</td>\n",
       "      <td>0.762500</td>\n",
       "      <td>8.313000</td>\n",
       "      <td>2.500000</td>\n",
       "    </tr>\n",
       "    <tr>\n",
       "      <th>75%</th>\n",
       "      <td>15055.500000</td>\n",
       "      <td>198050.000000</td>\n",
       "      <td>42.750000</td>\n",
       "      <td>13.697500</td>\n",
       "      <td>4.000000</td>\n",
       "    </tr>\n",
       "    <tr>\n",
       "      <th>max</th>\n",
       "      <td>40000.000000</td>\n",
       "      <td>849420.000000</td>\n",
       "      <td>1948.500000</td>\n",
       "      <td>20.060000</td>\n",
       "      <td>5.000000</td>\n",
       "    </tr>\n",
       "  </tbody>\n",
       "</table>\n",
       "</div>"
      ],
      "text/plain": [
       "       Temperature (K)  Luminosity(L/Lo)  Radius(R/Ro)  \\\n",
       "count       240.000000        240.000000    240.000000   \n",
       "mean      10497.462500     107188.361635    237.157781   \n",
       "std        9552.425037     179432.244940    517.155763   \n",
       "min        1939.000000          0.000080      0.008400   \n",
       "25%        3344.250000          0.000865      0.102750   \n",
       "50%        5776.000000          0.070500      0.762500   \n",
       "75%       15055.500000     198050.000000     42.750000   \n",
       "max       40000.000000     849420.000000   1948.500000   \n",
       "\n",
       "       Absolute magnitude(Mv)   Star type  \n",
       "count              240.000000  240.000000  \n",
       "mean                 4.382396    2.500000  \n",
       "std                 10.532512    1.711394  \n",
       "min                -11.920000    0.000000  \n",
       "25%                 -6.232500    1.000000  \n",
       "50%                  8.313000    2.500000  \n",
       "75%                 13.697500    4.000000  \n",
       "max                 20.060000    5.000000  "
      ]
     },
     "metadata": {},
     "output_type": "display_data"
    },
    {
     "name": "stdout",
     "output_type": "stream",
     "text": [
      "Количество дубликатов: 0\n",
      "Общее количество пропусков: 0\n"
     ]
    }
   ],
   "source": [
    "df = data_info('/Users/sancho/Desktop/Прогнозирование температуры звезды/6_class.csv')"
   ]
  },
  {
   "cell_type": "code",
   "execution_count": 4,
   "id": "a111a56c",
   "metadata": {
    "scrolled": true
   },
   "outputs": [
    {
     "data": {
      "text/plain": [
       "Index(['Temperature (K)', 'Luminosity(L/Lo)', 'Radius(R/Ro)',\n",
       "       'Absolute magnitude(Mv)', 'Star type', 'Star color'],\n",
       "      dtype='object')"
      ]
     },
     "execution_count": 4,
     "metadata": {},
     "output_type": "execute_result"
    }
   ],
   "source": [
    "df.columns"
   ]
  },
  {
   "cell_type": "markdown",
   "id": "35bd1c67",
   "metadata": {},
   "source": [
    "Для удобства переименуем названия колонок:"
   ]
  },
  {
   "cell_type": "code",
   "execution_count": 5,
   "id": "6730d0fd",
   "metadata": {},
   "outputs": [],
   "source": [
    "df = df.rename(columns={'Temperature (K)': 'temperature', 'Luminosity(L/Lo)': 'luminosity', \n",
    "                        'Radius(R/Ro)': 'radius', 'Absolute magnitude(Mv)': 'absolute_magnitude', \n",
    "                        'Star type': 'star_type', 'Star color': 'star_color'})"
   ]
  },
  {
   "cell_type": "code",
   "execution_count": 6,
   "id": "c446a30e",
   "metadata": {},
   "outputs": [
    {
     "data": {
      "text/plain": [
       "Index(['temperature', 'luminosity', 'radius', 'absolute_magnitude',\n",
       "       'star_type', 'star_color'],\n",
       "      dtype='object')"
      ]
     },
     "execution_count": 6,
     "metadata": {},
     "output_type": "execute_result"
    }
   ],
   "source": [
    "df.columns"
   ]
  },
  {
   "cell_type": "markdown",
   "id": "5eb49800",
   "metadata": {},
   "source": [
    "Проверим столбец с категориальным признаком на предмет неявных дубликатов:"
   ]
  },
  {
   "cell_type": "code",
   "execution_count": 7,
   "id": "f98a3e7f",
   "metadata": {},
   "outputs": [
    {
     "data": {
      "text/plain": [
       "array(['Red', 'Blue White', 'White', 'Yellowish White', 'Blue white',\n",
       "       'Pale yellow orange', 'Blue', 'Blue-white', 'Whitish',\n",
       "       'yellow-white', 'Orange', 'White-Yellow', 'white', 'Blue ',\n",
       "       'yellowish', 'Yellowish', 'Orange-Red', 'Blue white ',\n",
       "       'Blue-White'], dtype=object)"
      ]
     },
     "execution_count": 7,
     "metadata": {},
     "output_type": "execute_result"
    }
   ],
   "source": [
    "df['star_color'].unique()"
   ]
  },
  {
   "cell_type": "markdown",
   "id": "1b1fad00",
   "metadata": {},
   "source": [
    "Столбец содержит неявные дубликаты, по-разному записаны одни и те же цвета."
   ]
  },
  {
   "cell_type": "code",
   "execution_count": 8,
   "id": "751b66b8",
   "metadata": {},
   "outputs": [],
   "source": [
    "df['star_color'] = df['star_color'].replace(['Blue-white', 'Blue White', 'Blue white', 'Blue white '], 'Blue-White')\n",
    "df['star_color'] = df['star_color'].replace(['yellow-white', 'Yellowish White', 'White-Yellow'], 'Yellow-White')\n",
    "df['star_color'] = df['star_color'].replace(['white', 'Whitish'], 'White')\n",
    "df['star_color'] = df['star_color'].replace(['yellowish', 'Yellowish'], 'Yellow')\n",
    "df['star_color'] = df['star_color'].replace(['Pale yellow orange'], 'Yellow-Orange')\n",
    "df['star_color'] = df['star_color'].replace(['Blue '], 'Blue')"
   ]
  },
  {
   "cell_type": "code",
   "execution_count": 9,
   "id": "dcb65e8f",
   "metadata": {
    "scrolled": true
   },
   "outputs": [
    {
     "data": {
      "text/html": [
       "<div>\n",
       "<style scoped>\n",
       "    .dataframe tbody tr th:only-of-type {\n",
       "        vertical-align: middle;\n",
       "    }\n",
       "\n",
       "    .dataframe tbody tr th {\n",
       "        vertical-align: top;\n",
       "    }\n",
       "\n",
       "    .dataframe thead th {\n",
       "        text-align: right;\n",
       "    }\n",
       "</style>\n",
       "<table border=\"1\" class=\"dataframe\">\n",
       "  <thead>\n",
       "    <tr style=\"text-align: right;\">\n",
       "      <th></th>\n",
       "      <th>star_color</th>\n",
       "    </tr>\n",
       "  </thead>\n",
       "  <tbody>\n",
       "    <tr>\n",
       "      <th>Red</th>\n",
       "      <td>112</td>\n",
       "    </tr>\n",
       "    <tr>\n",
       "      <th>Blue</th>\n",
       "      <td>56</td>\n",
       "    </tr>\n",
       "    <tr>\n",
       "      <th>Blue-White</th>\n",
       "      <td>41</td>\n",
       "    </tr>\n",
       "    <tr>\n",
       "      <th>White</th>\n",
       "      <td>12</td>\n",
       "    </tr>\n",
       "    <tr>\n",
       "      <th>Yellow-White</th>\n",
       "      <td>12</td>\n",
       "    </tr>\n",
       "    <tr>\n",
       "      <th>Yellow</th>\n",
       "      <td>3</td>\n",
       "    </tr>\n",
       "    <tr>\n",
       "      <th>Orange</th>\n",
       "      <td>2</td>\n",
       "    </tr>\n",
       "    <tr>\n",
       "      <th>Yellow-Orange</th>\n",
       "      <td>1</td>\n",
       "    </tr>\n",
       "    <tr>\n",
       "      <th>Orange-Red</th>\n",
       "      <td>1</td>\n",
       "    </tr>\n",
       "  </tbody>\n",
       "</table>\n",
       "</div>"
      ],
      "text/plain": [
       "               star_color\n",
       "Red                   112\n",
       "Blue                   56\n",
       "Blue-White             41\n",
       "White                  12\n",
       "Yellow-White           12\n",
       "Yellow                  3\n",
       "Orange                  2\n",
       "Yellow-Orange           1\n",
       "Orange-Red              1"
      ]
     },
     "execution_count": 9,
     "metadata": {},
     "output_type": "execute_result"
    }
   ],
   "source": [
    "df['star_color'].value_counts().to_frame()"
   ]
  },
  {
   "cell_type": "markdown",
   "id": "f422ec33",
   "metadata": {},
   "source": [
    "Проверим столбец с типом звезды:"
   ]
  },
  {
   "cell_type": "code",
   "execution_count": 10,
   "id": "03b28863",
   "metadata": {},
   "outputs": [
    {
     "data": {
      "text/plain": [
       "0    40\n",
       "1    40\n",
       "2    40\n",
       "3    40\n",
       "4    40\n",
       "5    40\n",
       "Name: star_type, dtype: int64"
      ]
     },
     "execution_count": 10,
     "metadata": {},
     "output_type": "execute_result"
    }
   ],
   "source": [
    "df['star_type'].value_counts()"
   ]
  },
  {
   "cell_type": "markdown",
   "id": "c1a1232c",
   "metadata": {},
   "source": [
    "**В результате предобработки переименованы колонки, обработаны неявные дубликаты в столбце `star_color`.**"
   ]
  },
  {
   "cell_type": "markdown",
   "id": "944ef5d6",
   "metadata": {},
   "source": [
    "# Исследовательский анализ"
   ]
  },
  {
   "cell_type": "markdown",
   "id": "253a486e",
   "metadata": {},
   "source": [
    "**Абсолютная температура**"
   ]
  },
  {
   "cell_type": "code",
   "execution_count": 11,
   "id": "2712811c",
   "metadata": {},
   "outputs": [
    {
     "data": {
      "text/plain": [
       "array([[<AxesSubplot:title={'center':'temperature'}>]], dtype=object)"
      ]
     },
     "execution_count": 11,
     "metadata": {},
     "output_type": "execute_result"
    },
    {
     "data": {
      "image/png": "[encoded data removed]",
      "text/plain": [
       "<Figure size 640x480 with 1 Axes>"
      ]
     },
     "metadata": {},
     "output_type": "display_data"
    }
   ],
   "source": [
    "df.hist('temperature')"
   ]
  },
  {
   "cell_type": "code",
   "execution_count": 12,
   "id": "8b921394",
   "metadata": {},
   "outputs": [
    {
     "data": {
      "image/png": "[encoded data removed]",
      "text/plain": [
       "<Figure size 640x480 with 1 Axes>"
      ]
     },
     "metadata": {},
     "output_type": "display_data"
    }
   ],
   "source": [
    "df['boxplot_temp'] = df.boxplot(column = 'temperature', by = 'star_type')"
   ]
  },
  {
   "cell_type": "code",
   "execution_count": 13,
   "id": "ca67b897",
   "metadata": {},
   "outputs": [],
   "source": [
    "#Q1 = df['boxplot_temp'].quantile(0.25)\n",
    "#Q3 = df['boxplot_temp'].quantile(0.75)\n",
    "#IQR = Q3 - Q1    #IQR is interquartile range. \n",
    "\n",
    "#df_IQR = df[(df['boxplot_temp'] > Q1) & (df['boxplot_temp'] < Q3)]\n",
    "#df_IQR.boxplot(column=\"boxplot_temp\")"
   ]
  },
  {
   "cell_type": "code",
   "execution_count": 14,
   "id": "d09a054d",
   "metadata": {},
   "outputs": [],
   "source": [
    "#df = df.query('temperature > 2000')"
   ]
  },
  {
   "cell_type": "markdown",
   "id": "9bf8f8ab",
   "metadata": {},
   "source": [
    "**Относительная светимость**"
   ]
  },
  {
   "cell_type": "code",
   "execution_count": 15,
   "id": "66d72556",
   "metadata": {},
   "outputs": [
    {
     "data": {
      "text/plain": [
       "array([[<AxesSubplot:title={'center':'luminosity'}>]], dtype=object)"
      ]
     },
     "execution_count": 15,
     "metadata": {},
     "output_type": "execute_result"
    },
    {
     "data": {
      "image/png": "[encoded data removed]",
      "text/plain": [
       "<Figure size 640x480 with 1 Axes>"
      ]
     },
     "metadata": {},
     "output_type": "display_data"
    }
   ],
   "source": [
    "df.hist('luminosity')"
   ]
  },
  {
   "cell_type": "code",
   "execution_count": 16,
   "id": "68ee71cb",
   "metadata": {
    "scrolled": false
   },
   "outputs": [
    {
     "data": {
      "text/plain": [
       "<AxesSubplot:title={'center':'luminosity'}, xlabel='star_type'>"
      ]
     },
     "execution_count": 16,
     "metadata": {},
     "output_type": "execute_result"
    },
    {
     "data": {
      "image/png": "[encoded data removed]",
      "text/plain": [
       "<Figure size 640x480 with 1 Axes>"
      ]
     },
     "metadata": {},
     "output_type": "display_data"
    }
   ],
   "source": [
    "df.boxplot(column = 'luminosity', by = 'star_type')"
   ]
  },
  {
   "cell_type": "code",
   "execution_count": 17,
   "id": "294e83a7",
   "metadata": {},
   "outputs": [],
   "source": [
    "#df = df.query('luminosity < 550000')"
   ]
  },
  {
   "cell_type": "code",
   "execution_count": 18,
   "id": "46d5ffa2",
   "metadata": {},
   "outputs": [],
   "source": [
    "#df.boxplot(column = 'luminosity', by = 'star_type')"
   ]
  },
  {
   "cell_type": "markdown",
   "id": "5c192c5e",
   "metadata": {},
   "source": [
    "**Относительный радиус**"
   ]
  },
  {
   "cell_type": "code",
   "execution_count": 19,
   "id": "6098a658",
   "metadata": {},
   "outputs": [
    {
     "data": {
      "text/plain": [
       "array([[<AxesSubplot:title={'center':'radius'}>]], dtype=object)"
      ]
     },
     "execution_count": 19,
     "metadata": {},
     "output_type": "execute_result"
    },
    {
     "data": {
      "image/png": "[encoded data removed]",
      "text/plain": [
       "<Figure size 640x480 with 1 Axes>"
      ]
     },
     "metadata": {},
     "output_type": "display_data"
    }
   ],
   "source": [
    "df.hist('radius')"
   ]
  },
  {
   "cell_type": "code",
   "execution_count": 20,
   "id": "e99bc09d",
   "metadata": {},
   "outputs": [
    {
     "data": {
      "text/plain": [
       "<AxesSubplot:title={'center':'radius'}, xlabel='star_type'>"
      ]
     },
     "execution_count": 20,
     "metadata": {},
     "output_type": "execute_result"
    },
    {
     "data": {
      "image/png": "[encoded data removed]",
      "text/plain": [
       "<Figure size 640x480 with 1 Axes>"
      ]
     },
     "metadata": {},
     "output_type": "display_data"
    }
   ],
   "source": [
    "df.boxplot(column = 'radius', by = 'star_type')\n",
    "# plt.ylim(0, 2000)"
   ]
  },
  {
   "cell_type": "code",
   "execution_count": 21,
   "id": "0d9bda0a",
   "metadata": {},
   "outputs": [],
   "source": [
    "# df = df.query('radius <= 600')"
   ]
  },
  {
   "cell_type": "markdown",
   "id": "702ddd99",
   "metadata": {},
   "source": [
    "**Абсолютная звёздная величина**"
   ]
  },
  {
   "cell_type": "code",
   "execution_count": 22,
   "id": "cf4d6378",
   "metadata": {},
   "outputs": [
    {
     "data": {
      "text/plain": [
       "array([[<AxesSubplot:title={'center':'absolute_magnitude'}>]],\n",
       "      dtype=object)"
      ]
     },
     "execution_count": 22,
     "metadata": {},
     "output_type": "execute_result"
    },
    {
     "data": {
      "image/png": "[encoded data removed]",
      "text/plain": [
       "<Figure size 640x480 with 1 Axes>"
      ]
     },
     "metadata": {},
     "output_type": "display_data"
    }
   ],
   "source": [
    "df.hist('absolute_magnitude')"
   ]
  },
  {
   "cell_type": "code",
   "execution_count": 23,
   "id": "64b1b77d",
   "metadata": {
    "scrolled": false
   },
   "outputs": [
    {
     "data": {
      "text/plain": [
       "<AxesSubplot:title={'center':'absolute_magnitude'}, xlabel='star_type'>"
      ]
     },
     "execution_count": 23,
     "metadata": {},
     "output_type": "execute_result"
    },
    {
     "data": {
      "image/png": "[encoded data removed]",
      "text/plain": [
       "<Figure size 640x480 with 1 Axes>"
      ]
     },
     "metadata": {},
     "output_type": "display_data"
    }
   ],
   "source": [
    "df.boxplot(column = 'absolute_magnitude', by = 'star_type')"
   ]
  },
  {
   "cell_type": "code",
   "execution_count": 24,
   "id": "5a97c581",
   "metadata": {},
   "outputs": [],
   "source": [
    "def fun(x):\n",
    "    q_99 = x.quantile(0.99)\n",
    "    q_1 = x.quantile(0.01)\n",
    "    return (x>q_99) | (x<q_1)\n",
    "\n",
    "df[\"is_outlier\"] = df.groupby(\"luminosity\")[\"star_type\"].transform(lambda x: fun(x)) "
   ]
  },
  {
   "cell_type": "code",
   "execution_count": 25,
   "id": "4c5aad75",
   "metadata": {},
   "outputs": [
    {
     "data": {
      "text/plain": [
       "<AxesSubplot:title={'center':'luminosity'}, xlabel='star_type'>"
      ]
     },
     "execution_count": 25,
     "metadata": {},
     "output_type": "execute_result"
    },
    {
     "data": {
      "image/png": "[encoded data removed]",
      "text/plain": [
       "<Figure size 640x480 with 1 Axes>"
      ]
     },
     "metadata": {},
     "output_type": "display_data"
    }
   ],
   "source": [
    "df.boxplot(column = 'luminosity', by = 'star_type')"
   ]
  },
  {
   "cell_type": "markdown",
   "id": "fc4167dc",
   "metadata": {},
   "source": [
    "# Подготовка данных к построению модели"
   ]
  },
  {
   "cell_type": "markdown",
   "id": "9fff4e25",
   "metadata": {},
   "source": [
    "Преобразуем категориальный признак в численный с помощью техники OHE."
   ]
  },
  {
   "cell_type": "code",
   "execution_count": 26,
   "id": "824eeaa1",
   "metadata": {},
   "outputs": [
    {
     "name": "stdout",
     "output_type": "stream",
     "text": [
      "<class 'pandas.core.frame.DataFrame'>\n",
      "Int64Index: 240 entries, 0 to 239\n",
      "Data columns (total 14 columns):\n",
      " #   Column                    Non-Null Count  Dtype  \n",
      "---  ------                    --------------  -----  \n",
      " 0   temperature               240 non-null    int64  \n",
      " 1   luminosity                240 non-null    float64\n",
      " 2   radius                    240 non-null    float64\n",
      " 3   absolute_magnitude        240 non-null    float64\n",
      " 4   star_type                 240 non-null    int64  \n",
      " 5   is_outlier                240 non-null    bool   \n",
      " 6   star_color_Blue-White     240 non-null    uint8  \n",
      " 7   star_color_Orange         240 non-null    uint8  \n",
      " 8   star_color_Orange-Red     240 non-null    uint8  \n",
      " 9   star_color_Red            240 non-null    uint8  \n",
      " 10  star_color_White          240 non-null    uint8  \n",
      " 11  star_color_Yellow         240 non-null    uint8  \n",
      " 12  star_color_Yellow-Orange  240 non-null    uint8  \n",
      " 13  star_color_Yellow-White   240 non-null    uint8  \n",
      "dtypes: bool(1), float64(3), int64(2), uint8(8)\n",
      "memory usage: 13.4 KB\n"
     ]
    }
   ],
   "source": [
    "df = pd.get_dummies(df, drop_first=True)\n",
    "df.info()"
   ]
  },
  {
   "cell_type": "markdown",
   "id": "80c4208e",
   "metadata": {},
   "source": [
    "Подготовим обучающую и тестовую выборки:"
   ]
  },
  {
   "cell_type": "code",
   "execution_count": 27,
   "id": "7305f881",
   "metadata": {},
   "outputs": [
    {
     "name": "stdout",
     "output_type": "stream",
     "text": [
      "Размер матрицы признаков обучающей выборки:  (180, 13)\n",
      "Размер матрицы признаков тестовой выборки:  (60, 13)\n"
     ]
    }
   ],
   "source": [
    "X_train, X_test, y_train, y_test = train_test_split(\n",
    "    df.drop('temperature', axis=1), df.temperature, test_size=0.25, shuffle=True, random_state=1)\n",
    "print('Размер матрицы признаков обучающей выборки: ', X_train.shape)\n",
    "print('Размер матрицы признаков тестовой выборки: ', X_test.shape)"
   ]
  },
  {
   "cell_type": "markdown",
   "id": "b08aeaeb",
   "metadata": {},
   "source": [
    "Выполним масштабирование количественных данных:"
   ]
  },
  {
   "cell_type": "code",
   "execution_count": 28,
   "id": "a37d7e90",
   "metadata": {},
   "outputs": [
    {
     "data": {
      "text/html": [
       "<div>\n",
       "<style scoped>\n",
       "    .dataframe tbody tr th:only-of-type {\n",
       "        vertical-align: middle;\n",
       "    }\n",
       "\n",
       "    .dataframe tbody tr th {\n",
       "        vertical-align: top;\n",
       "    }\n",
       "\n",
       "    .dataframe thead th {\n",
       "        text-align: right;\n",
       "    }\n",
       "</style>\n",
       "<table border=\"1\" class=\"dataframe\">\n",
       "  <thead>\n",
       "    <tr style=\"text-align: right;\">\n",
       "      <th></th>\n",
       "      <th>luminosity</th>\n",
       "      <th>radius</th>\n",
       "      <th>absolute_magnitude</th>\n",
       "      <th>star_type</th>\n",
       "      <th>is_outlier</th>\n",
       "      <th>star_color_Blue-White</th>\n",
       "      <th>star_color_Orange</th>\n",
       "      <th>star_color_Orange-Red</th>\n",
       "      <th>star_color_Red</th>\n",
       "      <th>star_color_White</th>\n",
       "      <th>star_color_Yellow</th>\n",
       "      <th>star_color_Yellow-Orange</th>\n",
       "      <th>star_color_Yellow-White</th>\n",
       "    </tr>\n",
       "    <tr>\n",
       "      <th>Unnamed: 0</th>\n",
       "      <th></th>\n",
       "      <th></th>\n",
       "      <th></th>\n",
       "      <th></th>\n",
       "      <th></th>\n",
       "      <th></th>\n",
       "      <th></th>\n",
       "      <th></th>\n",
       "      <th></th>\n",
       "      <th></th>\n",
       "      <th></th>\n",
       "      <th></th>\n",
       "      <th></th>\n",
       "    </tr>\n",
       "  </thead>\n",
       "  <tbody>\n",
       "    <tr>\n",
       "      <th>116</th>\n",
       "      <td>0.972975</td>\n",
       "      <td>2.621766</td>\n",
       "      <td>-1.494861</td>\n",
       "      <td>1.474702</td>\n",
       "      <td>False</td>\n",
       "      <td>0</td>\n",
       "      <td>0</td>\n",
       "      <td>0</td>\n",
       "      <td>1</td>\n",
       "      <td>0</td>\n",
       "      <td>0</td>\n",
       "      <td>0</td>\n",
       "      <td>0</td>\n",
       "    </tr>\n",
       "    <tr>\n",
       "      <th>200</th>\n",
       "      <td>-0.600498</td>\n",
       "      <td>-0.444806</td>\n",
       "      <td>0.803675</td>\n",
       "      <td>-0.275494</td>\n",
       "      <td>False</td>\n",
       "      <td>0</td>\n",
       "      <td>0</td>\n",
       "      <td>0</td>\n",
       "      <td>0</td>\n",
       "      <td>0</td>\n",
       "      <td>0</td>\n",
       "      <td>0</td>\n",
       "      <td>0</td>\n",
       "    </tr>\n",
       "    <tr>\n",
       "      <th>47</th>\n",
       "      <td>0.515440</td>\n",
       "      <td>-0.266911</td>\n",
       "      <td>-0.912173</td>\n",
       "      <td>0.891304</td>\n",
       "      <td>False</td>\n",
       "      <td>0</td>\n",
       "      <td>0</td>\n",
       "      <td>0</td>\n",
       "      <td>1</td>\n",
       "      <td>0</td>\n",
       "      <td>0</td>\n",
       "      <td>0</td>\n",
       "      <td>0</td>\n",
       "    </tr>\n",
       "    <tr>\n",
       "      <th>179</th>\n",
       "      <td>0.786000</td>\n",
       "      <td>1.823132</td>\n",
       "      <td>-1.196411</td>\n",
       "      <td>1.474702</td>\n",
       "      <td>False</td>\n",
       "      <td>1</td>\n",
       "      <td>0</td>\n",
       "      <td>0</td>\n",
       "      <td>0</td>\n",
       "      <td>0</td>\n",
       "      <td>0</td>\n",
       "      <td>0</td>\n",
       "      <td>0</td>\n",
       "    </tr>\n",
       "    <tr>\n",
       "      <th>231</th>\n",
       "      <td>0.921809</td>\n",
       "      <td>2.265929</td>\n",
       "      <td>-1.295894</td>\n",
       "      <td>1.474702</td>\n",
       "      <td>False</td>\n",
       "      <td>0</td>\n",
       "      <td>0</td>\n",
       "      <td>0</td>\n",
       "      <td>0</td>\n",
       "      <td>0</td>\n",
       "      <td>0</td>\n",
       "      <td>0</td>\n",
       "      <td>0</td>\n",
       "    </tr>\n",
       "  </tbody>\n",
       "</table>\n",
       "</div>"
      ],
      "text/plain": [
       "            luminosity    radius  absolute_magnitude  star_type  is_outlier  \\\n",
       "Unnamed: 0                                                                    \n",
       "116           0.972975  2.621766           -1.494861   1.474702       False   \n",
       "200          -0.600498 -0.444806            0.803675  -0.275494       False   \n",
       "47            0.515440 -0.266911           -0.912173   0.891304       False   \n",
       "179           0.786000  1.823132           -1.196411   1.474702       False   \n",
       "231           0.921809  2.265929           -1.295894   1.474702       False   \n",
       "\n",
       "            star_color_Blue-White  star_color_Orange  star_color_Orange-Red  \\\n",
       "Unnamed: 0                                                                    \n",
       "116                             0                  0                      0   \n",
       "200                             0                  0                      0   \n",
       "47                              0                  0                      0   \n",
       "179                             1                  0                      0   \n",
       "231                             0                  0                      0   \n",
       "\n",
       "            star_color_Red  star_color_White  star_color_Yellow  \\\n",
       "Unnamed: 0                                                        \n",
       "116                      1                 0                  0   \n",
       "200                      0                 0                  0   \n",
       "47                       1                 0                  0   \n",
       "179                      0                 0                  0   \n",
       "231                      0                 0                  0   \n",
       "\n",
       "            star_color_Yellow-Orange  star_color_Yellow-White  \n",
       "Unnamed: 0                                                     \n",
       "116                                0                        0  \n",
       "200                                0                        0  \n",
       "47                                 0                        0  \n",
       "179                                0                        0  \n",
       "231                                0                        0  "
      ]
     },
     "execution_count": 28,
     "metadata": {},
     "output_type": "execute_result"
    }
   ],
   "source": [
    "scaler = StandardScaler()\n",
    "\n",
    "numerical = ['luminosity', 'radius', 'absolute_magnitude', 'star_type']\n",
    "\n",
    "scaler.fit(X_train[numerical])\n",
    "\n",
    "X_train[numerical] = scaler.transform(X_train[numerical])\n",
    "X_test[numerical] = scaler.transform(X_test[numerical])\n",
    "\n",
    "X_train.head()"
   ]
  },
  {
   "cell_type": "markdown",
   "id": "49425492",
   "metadata": {},
   "source": [
    "# Построение нейронной сети"
   ]
  },
  {
   "cell_type": "code",
   "execution_count": 29,
   "id": "9d6f8fc2",
   "metadata": {},
   "outputs": [
    {
     "ename": "TypeError",
     "evalue": "can't convert np.ndarray of type numpy.object_. The only supported types are: float64, float32, float16, complex64, complex128, int64, int32, int16, int8, uint8, and bool.",
     "output_type": "error",
     "traceback": [
      "\u001b[0;31m---------------------------------------------------------------------------\u001b[0m",
      "\u001b[0;31mTypeError\u001b[0m                                 Traceback (most recent call last)",
      "Input \u001b[0;32mIn [29]\u001b[0m, in \u001b[0;36m<cell line: 2>\u001b[0;34m()\u001b[0m\n\u001b[1;32m      1\u001b[0m \u001b[38;5;66;03m# создаём тензоры\u001b[39;00m\n\u001b[0;32m----> 2\u001b[0m X_train \u001b[38;5;241m=\u001b[39m \u001b[43mtorch\u001b[49m\u001b[38;5;241;43m.\u001b[39;49m\u001b[43mFloatTensor\u001b[49m\u001b[43m(\u001b[49m\u001b[43mX_train\u001b[49m\u001b[38;5;241;43m.\u001b[39;49m\u001b[43mvalues\u001b[49m\u001b[43m)\u001b[49m\n\u001b[1;32m      3\u001b[0m y_train \u001b[38;5;241m=\u001b[39m torch\u001b[38;5;241m.\u001b[39mFloatTensor(y_train\u001b[38;5;241m.\u001b[39mvalues)\n\u001b[1;32m      5\u001b[0m X_test \u001b[38;5;241m=\u001b[39m torch\u001b[38;5;241m.\u001b[39mFloatTensor(X_test\u001b[38;5;241m.\u001b[39mvalues)\n",
      "\u001b[0;31mTypeError\u001b[0m: can't convert np.ndarray of type numpy.object_. The only supported types are: float64, float32, float16, complex64, complex128, int64, int32, int16, int8, uint8, and bool."
     ]
    }
   ],
   "source": [
    "# создаём тензоры\n",
    "X_train = torch.FloatTensor(X_train.values)\n",
    "y_train = torch.FloatTensor(y_train.values)\n",
    "\n",
    "X_test = torch.FloatTensor(X_test.values)\n",
    "y_test = torch.FloatTensor(y_test.values)"
   ]
  },
  {
   "cell_type": "code",
   "execution_count": null,
   "id": "a2072159",
   "metadata": {
    "scrolled": true
   },
   "outputs": [],
   "source": [
    "print('Размер матрицы признаков обучающей выборки: ', X_train.shape)\n",
    "print('Размер матрицы признаков тестовой выборки: ', X_test.shape)\n",
    "print('Размер матрицы целевого признака обучающей выборки: ', y_train.shape)\n",
    "print('Размер матрицы целевого признака тестовой выборки: ', y_test.shape)"
   ]
  },
  {
   "cell_type": "code",
   "execution_count": null,
   "id": "cd7cbbab",
   "metadata": {},
   "outputs": [],
   "source": [
    "random.seed(1)\n",
    "np.random.seed(1)\n",
    "torch.manual_seed(1)\n",
    "torch.use_deterministic_algorithms(True)"
   ]
  },
  {
   "cell_type": "code",
   "execution_count": null,
   "id": "5df11cca",
   "metadata": {},
   "outputs": [],
   "source": [
    "n_in_neurons = 11\n",
    "n_hidden_neurons_1 = 8\n",
    "n_hidden_neurons_2 = 8\n",
    "n_out_neurons = 1"
   ]
  },
  {
   "cell_type": "code",
   "execution_count": null,
   "id": "15fe9bef",
   "metadata": {},
   "outputs": [],
   "source": [
    "net = nn.Sequential(\n",
    "    nn.Linear(n_in_neurons, n_hidden_neurons_1),\n",
    "    nn.ReLU(), \n",
    "\tnn.Linear(n_hidden_neurons_1, n_hidden_neurons_2),\n",
    "    nn.ReLU(),\n",
    "    nn.Linear(n_hidden_neurons_2, n_out_neurons), \n",
    "    nn.ReLU()\n",
    ")"
   ]
  },
  {
   "cell_type": "code",
   "execution_count": null,
   "id": "91338786",
   "metadata": {},
   "outputs": [],
   "source": [
    "optimizer = torch.optim.Adam(net.parameters(), lr=1e-3)"
   ]
  },
  {
   "cell_type": "code",
   "execution_count": null,
   "id": "39433b90",
   "metadata": {},
   "outputs": [],
   "source": [
    "loss = nn.MSELoss()"
   ]
  },
  {
   "cell_type": "code",
   "execution_count": null,
   "id": "1bb5853d",
   "metadata": {},
   "outputs": [],
   "source": [
    "num_epochs = 100"
   ]
  },
  {
   "cell_type": "code",
   "execution_count": null,
   "id": "d13bdfb6",
   "metadata": {
    "scrolled": true
   },
   "outputs": [],
   "source": [
    "for epoch in range(num_epochs):\n",
    "    optimizer.zero_grad()\n",
    "\t\n",
    "    preds = net.forward(X_train).flatten()\n",
    "    \n",
    "    loss_value = loss(preds, y_train)\n",
    "    loss_value.backward()\n",
    "    \n",
    "    optimizer.step()\n",
    "    \n",
    "    if epoch % 10 == 0 or epoch == num_epochs - 1:\n",
    "        net.eval()\n",
    "        test_preds = net.forward(X_test)\n",
    "        RMSE_loss = sqrt(mean_squared_error(y_test.detach().numpy(), test_preds.detach().numpy()))\n",
    "        print(RMSE_loss)"
   ]
  },
  {
   "cell_type": "code",
   "execution_count": null,
   "id": "61e67327",
   "metadata": {},
   "outputs": [],
   "source": [
    "batch_size = 500\n",
    "\n",
    "num_batches = ceil(len(X_train)/batch_size)"
   ]
  },
  {
   "cell_type": "code",
   "execution_count": null,
   "id": "d37ae87e",
   "metadata": {},
   "outputs": [],
   "source": [
    "for epoch in range(num_epochs):\n",
    "\torder = np.random.permutation(len(X_train)) # создайте случайную перестановку индексов объектов\n",
    "\tfor batch_idx in range(num_batches):\n",
    "\t\tstart_index = batch_idx * batch_size # посчитайте номер стартового объекта батча\n",
    "\t\toptimizer.zero_grad()\n",
    "  \n",
    "\t\tbatch_indexes = order[start_index:start_index+batch_size] # извлеките индексы объектов текущего обатча\n",
    "\t\tX_batch = X_train[batch_indexes]\n",
    "\t\ty_batch = y_train[batch_indexes]\n",
    "  \n",
    "\t\tpreds = net.forward(X_batch).flatten()\n",
    "\t        \n",
    "\t\tloss_value = loss(preds, y_batch)\n",
    "\n",
    "\t\tloss_value.backward()\n",
    "\t        \n",
    "\t\toptimizer.step()\n",
    "\n",
    "\tif epoch % 10 == 0 or epoch == num_epochs - 1:\n",
    "\t\tnet.eval()\n",
    "\t\ttest_preds = net.forward(X_test)\n",
    "\t\tRMSE_loss = sqrt(mean_squared_error(y_test.detach().numpy(), test_preds.detach().numpy()))\n",
    "\t\tprint(RMSE_loss)"
   ]
  },
  {
   "cell_type": "code",
   "execution_count": null,
   "id": "d688d738",
   "metadata": {},
   "outputs": [],
   "source": []
  }
 ],
 "metadata": {
  "kernelspec": {
   "display_name": "Python 3 (ipykernel)",
   "language": "python",
   "name": "python3"
  },
  "language_info": {
   "codemirror_mode": {
    "name": "ipython",
    "version": 3
   },
   "file_extension": ".py",
   "mimetype": "text/x-python",
   "name": "python",
   "nbconvert_exporter": "python",
   "pygments_lexer": "ipython3",
   "version": "3.8.13"
  },
  "toc": {
   "base_numbering": 1,
   "nav_menu": {},
   "number_sections": true,
   "sideBar": true,
   "skip_h1_title": false,
   "title_cell": "Table of Contents",
   "title_sidebar": "Contents",
   "toc_cell": false,
   "toc_position": {},
   "toc_section_display": true,
   "toc_window_display": false
  }
 },
 "nbformat": 4,
 "nbformat_minor": 5
}
